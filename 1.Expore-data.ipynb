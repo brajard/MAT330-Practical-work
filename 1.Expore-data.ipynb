{
 "cells": [
  {
   "cell_type": "markdown",
   "metadata": {},
   "source": [
    "# MAT330 - Practical work on Machine Learning\n",
    "<span style=\"color:blue\"> ** This notebook load the data and explore quickly the different features:** </span>\n",
    "\n",
    "<span style=\"color:red\"> ** - What is the target? ** </span>\n",
    "\n",
    "<span style=\"color:red\"> ** - What are the qualitative features, quantitative features? ** </span>\n",
    "\n",
    "<span style=\"color:red\"> ** - Which features are images? **</span>\n",
    "\n",
    "## Example : hurricane meteorological data\n",
    "\n",
    "Sophie Giffard-Roisin (sophie.giffard@univ-grenoble-alpes.fr)\n",
    "Julien Brajard (julien.brajard@nersc.no)\n",
    "\n",
    "## Introduction\n",
    "This is an initiation to introduce regression using machine learning and get you to know how it works.\n",
    "\n",
    "We will use a real hurricane meteorological dataset, which typical goal is to estimate the current stength of the hurricane or to predict its evolution. \n",
    "<img src=\"https://github.com/sophiegif/ramp_kit_storm_forecast_new/blob/master/figures_pynb/all_storms_since1979_IBTrRACKS_newcats.png?raw=true\" width=\"70%\">\n",
    "<div style=\"text-align: center\">Database: tropical/extra-tropical storm tracks since 1979. Dots = initial position, color = maximal storm strength according to the Saffir-Simpson scale.</div>\n"
   ]
  },
  {
   "cell_type": "markdown",
   "metadata": {},
   "source": [
    "### Requirements\n",
    "If you run the notebook on Colab, you don't have to install python libraries, but if you want to run the notebooks locally, you need to the followin modules:\n",
    "\n",
    "* numpy  \n",
    "* matplotlib\n",
    "* pandas \n",
    "* scikit-learn   "
   ]
  },
  {
   "cell_type": "code",
   "execution_count": 1,
   "metadata": {
    "collapsed": true
   },
   "outputs": [],
   "source": [
    "%matplotlib inline\n",
    "import os\n",
    "import numpy as np\n",
    "from scipy import io\n",
    "import matplotlib.pyplot as plt\n",
    "import pandas as pd"
   ]
  },
  {
   "cell_type": "markdown",
   "metadata": {},
   "source": [
    "## The data"
   ]
  },
  {
   "cell_type": "code",
   "execution_count": 2,
   "metadata": {
    "collapsed": true,
    "scrolled": true
   },
   "outputs": [],
   "source": [
    "train_filename = 'https://raw.githubusercontent.com/brajard/MAT330-Practical-work/master/data/train.csv'\n",
    "data_train = pd.read_csv(train_filename)\n",
    "\n",
    "# Extract the predictor (but not the target -> data leakage)\n",
    "X = data_train.drop('target',axis=1, inplace=False)\n",
    "y = data_train['target']"
   ]
  },
  {
   "cell_type": "code",
   "execution_count": 3,
   "metadata": {
    "collapsed": true
   },
   "outputs": [],
   "source": [
    "# Do the same with the test dataset\n",
    "test_filename = 'https://raw.githubusercontent.com/brajard/MAT330-Practical-work/master/data/test.csv'\n",
    "Xtest = pd.read_csv(test_filename)\n"
   ]
  },
  {
   "cell_type": "markdown",
   "metadata": {},
   "source": [
    "### 1. 0D features from track data\n",
    "\n",
    "A set of simple features has been extracted for each storm at each time point: \n",
    "\n",
    "- latitude, longitude: in degrees\n",
    "- windspeed: current (max) windspeed (knots) \n",
    "- hemisphere:  South=0, North=1\n",
    "- Jday predictor:  Gaussian function of (Julian day of storm init - peak day of the hurricane season), see (1)\n",
    "- initial_max_wind: initial (max) windspeed of the storm \n",
    "- max_wind_change_12h: last 12h (max) windspeed change\n",
    "- basin = based on the present location: \n",
    "       0 = NA - North Atlantic / 1 = SA - South Atlantic    / 2 = WP - West Pacific       / 3 = EP - East Pacific /\n",
    "       4 = SP - South Pacific  / 5 = NI - North Indian      / 6 = SI - South Indian       / 7 = AS - Arabian Sea /\n",
    "       8 = BB - Bay of Bengal  / 9 = EA - Eastern Australia / 10 = WA - Western Australia / 11 = CP - Central Pacific\n",
    "       12 = CS - Carribbean Sea/ 13 = GM - Gulf of Mexico   / 14 = MM - Missing\n",
    "- nature = nature of the storm  \n",
    "       0 = TS - Tropical / 1 = SS - Subtropical / 2 = ET - Extratropical / 3 = DS - Disturbance /\n",
    "       4 = MX - Mix of conflicting reports / 5 = NR - Not Reported / 6 = MM - Missing / 7 =  - Missing\n",
    "- dist2land = current distance to the land (km)\n",
    "- target: 24h ahead windspeed (knots)\n",
    "\n",
    "\n",
    "(1) DeMaria, Mark, et al. \"Further improvements to the statistical hurricane intensity prediction scheme (SHIPS).\" Weather and Forecasting 20.4 (2005): 531-543. https://journals.ametsoc.org/doi/full/10.1175/WAF862.1\n"
   ]
  },
  {
   "cell_type": "markdown",
   "metadata": {},
   "source": [
    "### 2. The reanalysis data\n",
    "\n",
    "At each time step, we extracted 7 grids (11x11 pixels) of meteorological parameters centered on the current storm location. Their choice is based on the forecast literature, on personal experience and on known hypothesis of storm strengthening.\n",
    "\n",
    "#### a) 25x25 degree z, u and v at 700hPa-level\n",
    "First, we provide 3 maps of 25 x 25 degrees (lat/long) at 700hPa-level pressure: the altitude `z`, the u-wind `u` (positive if wind from the West) and the v-wind `v` (positive if wind from the South). These grids are subsampled to 11x11 pixels (1 pixel ~=2 degrees).\n"
   ]
  },
  {
   "cell_type": "code",
   "execution_count": 4,
   "metadata": {},
   "outputs": [
    {
     "data": {
      "text/html": [
       "<div>\n",
       "<style>\n",
       "    .dataframe thead tr:only-child th {\n",
       "        text-align: right;\n",
       "    }\n",
       "\n",
       "    .dataframe thead th {\n",
       "        text-align: left;\n",
       "    }\n",
       "\n",
       "    .dataframe tbody tr th {\n",
       "        vertical-align: top;\n",
       "    }\n",
       "</style>\n",
       "<table border=\"1\" class=\"dataframe\">\n",
       "  <thead>\n",
       "    <tr style=\"text-align: right;\">\n",
       "      <th></th>\n",
       "      <th>z_0_0</th>\n",
       "      <th>z_0_1</th>\n",
       "      <th>z_0_2</th>\n",
       "      <th>z_0_3</th>\n",
       "      <th>z_0_4</th>\n",
       "      <th>z_0_5</th>\n",
       "      <th>z_0_6</th>\n",
       "      <th>z_0_7</th>\n",
       "      <th>z_0_8</th>\n",
       "      <th>z_0_9</th>\n",
       "      <th>...</th>\n",
       "      <th>z_10_1</th>\n",
       "      <th>z_10_2</th>\n",
       "      <th>z_10_3</th>\n",
       "      <th>z_10_4</th>\n",
       "      <th>z_10_5</th>\n",
       "      <th>z_10_6</th>\n",
       "      <th>z_10_7</th>\n",
       "      <th>z_10_8</th>\n",
       "      <th>z_10_9</th>\n",
       "      <th>z_10_10</th>\n",
       "    </tr>\n",
       "  </thead>\n",
       "  <tbody>\n",
       "    <tr>\n",
       "      <th>0</th>\n",
       "      <td>114560.6</td>\n",
       "      <td>114579.8</td>\n",
       "      <td>114559.6</td>\n",
       "      <td>114533.2</td>\n",
       "      <td>114542.3</td>\n",
       "      <td>114558.2</td>\n",
       "      <td>114643.2</td>\n",
       "      <td>114711.4</td>\n",
       "      <td>114735.9</td>\n",
       "      <td>114748.4</td>\n",
       "      <td>...</td>\n",
       "      <td>114463.1</td>\n",
       "      <td>114524.1</td>\n",
       "      <td>114586.0</td>\n",
       "      <td>114618.7</td>\n",
       "      <td>114623.0</td>\n",
       "      <td>114614.9</td>\n",
       "      <td>114609.1</td>\n",
       "      <td>114606.2</td>\n",
       "      <td>114606.2</td>\n",
       "      <td>114603.8</td>\n",
       "    </tr>\n",
       "    <tr>\n",
       "      <th>1</th>\n",
       "      <td>114524.6</td>\n",
       "      <td>114515.9</td>\n",
       "      <td>114527.9</td>\n",
       "      <td>114510.2</td>\n",
       "      <td>114532.7</td>\n",
       "      <td>114519.8</td>\n",
       "      <td>114556.7</td>\n",
       "      <td>114614.9</td>\n",
       "      <td>114628.3</td>\n",
       "      <td>114648.0</td>\n",
       "      <td>...</td>\n",
       "      <td>114537.5</td>\n",
       "      <td>114588.4</td>\n",
       "      <td>114601.4</td>\n",
       "      <td>114589.9</td>\n",
       "      <td>114570.2</td>\n",
       "      <td>114556.3</td>\n",
       "      <td>114551.0</td>\n",
       "      <td>114559.6</td>\n",
       "      <td>114571.6</td>\n",
       "      <td>114577.4</td>\n",
       "    </tr>\n",
       "    <tr>\n",
       "      <th>2</th>\n",
       "      <td>114637.4</td>\n",
       "      <td>114609.1</td>\n",
       "      <td>114591.3</td>\n",
       "      <td>114588.4</td>\n",
       "      <td>114592.3</td>\n",
       "      <td>114603.8</td>\n",
       "      <td>114670.6</td>\n",
       "      <td>114751.7</td>\n",
       "      <td>114795.0</td>\n",
       "      <td>114798.3</td>\n",
       "      <td>...</td>\n",
       "      <td>114403.5</td>\n",
       "      <td>114454.9</td>\n",
       "      <td>114512.6</td>\n",
       "      <td>114553.4</td>\n",
       "      <td>114570.2</td>\n",
       "      <td>114580.8</td>\n",
       "      <td>114587.0</td>\n",
       "      <td>114584.1</td>\n",
       "      <td>114576.0</td>\n",
       "      <td>114570.2</td>\n",
       "    </tr>\n",
       "    <tr>\n",
       "      <th>3</th>\n",
       "      <td>114399.7</td>\n",
       "      <td>114393.9</td>\n",
       "      <td>114385.3</td>\n",
       "      <td>114381.4</td>\n",
       "      <td>114349.3</td>\n",
       "      <td>114373.3</td>\n",
       "      <td>114399.7</td>\n",
       "      <td>114432.8</td>\n",
       "      <td>114466.5</td>\n",
       "      <td>114522.6</td>\n",
       "      <td>...</td>\n",
       "      <td>113959.3</td>\n",
       "      <td>114033.7</td>\n",
       "      <td>114086.5</td>\n",
       "      <td>114127.4</td>\n",
       "      <td>114152.3</td>\n",
       "      <td>114162.9</td>\n",
       "      <td>114166.8</td>\n",
       "      <td>114161.5</td>\n",
       "      <td>114152.3</td>\n",
       "      <td>114149.9</td>\n",
       "    </tr>\n",
       "    <tr>\n",
       "      <th>4</th>\n",
       "      <td>114570.2</td>\n",
       "      <td>114561.5</td>\n",
       "      <td>114553.4</td>\n",
       "      <td>114584.6</td>\n",
       "      <td>114584.1</td>\n",
       "      <td>114584.6</td>\n",
       "      <td>114600.5</td>\n",
       "      <td>114641.3</td>\n",
       "      <td>114674.9</td>\n",
       "      <td>114717.6</td>\n",
       "      <td>...</td>\n",
       "      <td>113980.4</td>\n",
       "      <td>114068.3</td>\n",
       "      <td>114121.6</td>\n",
       "      <td>114153.8</td>\n",
       "      <td>114183.6</td>\n",
       "      <td>114207.1</td>\n",
       "      <td>114222.9</td>\n",
       "      <td>114233.0</td>\n",
       "      <td>114243.6</td>\n",
       "      <td>114226.8</td>\n",
       "    </tr>\n",
       "  </tbody>\n",
       "</table>\n",
       "<p>5 rows × 121 columns</p>\n",
       "</div>"
      ],
      "text/plain": [
       "      z_0_0     z_0_1     z_0_2     z_0_3     z_0_4     z_0_5     z_0_6  \\\n",
       "0  114560.6  114579.8  114559.6  114533.2  114542.3  114558.2  114643.2   \n",
       "1  114524.6  114515.9  114527.9  114510.2  114532.7  114519.8  114556.7   \n",
       "2  114637.4  114609.1  114591.3  114588.4  114592.3  114603.8  114670.6   \n",
       "3  114399.7  114393.9  114385.3  114381.4  114349.3  114373.3  114399.7   \n",
       "4  114570.2  114561.5  114553.4  114584.6  114584.1  114584.6  114600.5   \n",
       "\n",
       "      z_0_7     z_0_8     z_0_9    ...       z_10_1    z_10_2    z_10_3  \\\n",
       "0  114711.4  114735.9  114748.4    ...     114463.1  114524.1  114586.0   \n",
       "1  114614.9  114628.3  114648.0    ...     114537.5  114588.4  114601.4   \n",
       "2  114751.7  114795.0  114798.3    ...     114403.5  114454.9  114512.6   \n",
       "3  114432.8  114466.5  114522.6    ...     113959.3  114033.7  114086.5   \n",
       "4  114641.3  114674.9  114717.6    ...     113980.4  114068.3  114121.6   \n",
       "\n",
       "     z_10_4    z_10_5    z_10_6    z_10_7    z_10_8    z_10_9   z_10_10  \n",
       "0  114618.7  114623.0  114614.9  114609.1  114606.2  114606.2  114603.8  \n",
       "1  114589.9  114570.2  114556.3  114551.0  114559.6  114571.6  114577.4  \n",
       "2  114553.4  114570.2  114580.8  114587.0  114584.1  114576.0  114570.2  \n",
       "3  114127.4  114152.3  114162.9  114166.8  114161.5  114152.3  114149.9  \n",
       "4  114153.8  114183.6  114207.1  114222.9  114233.0  114243.6  114226.8  \n",
       "\n",
       "[5 rows x 121 columns]"
      ]
     },
     "execution_count": 4,
     "metadata": {},
     "output_type": "execute_result"
    }
   ],
   "source": [
    "data_train_z = X[[col for col in X.columns if col.startswith('z_')]]\n",
    "data_train_z.head()"
   ]
  },
  {
   "cell_type": "code",
   "execution_count": 5,
   "metadata": {
    "collapsed": true
   },
   "outputs": [],
   "source": [
    "import matplotlib.pyplot as plt\n",
    "%matplotlib inline\n",
    "sample_id=20 # sample number plotted - you can change it to see other storms and other instants\n",
    "grid_l=11 # size of all 2D-grids (in pixels)"
   ]
  },
  {
   "cell_type": "code",
   "execution_count": 6,
   "metadata": {},
   "outputs": [
    {
     "data": {
      "image/png": "[encoded data removed]",
      "text/plain": [
       "<Figure size 720x288 with 3 Axes>"
      ]
     },
     "metadata": {},
     "output_type": "display_data"
    }
   ],
   "source": [
    "params_25x25=['z','u','v']\n",
    "plt.figure(figsize=(10,4))\n",
    "for p,param in enumerate(params_25x25):\n",
    "    image=np.zeros([grid_l,grid_l])\n",
    "    for i in range(grid_l):\n",
    "         for j in range(grid_l):\n",
    "            image[i,j]=X[param+'_'+str(i)+'_'+str(j)][sample_id]\n",
    "    plt.subplot(1,3,p+1)\n",
    "    plt.imshow(np.array(image),extent=[-12,12,-12,12],\n",
    "               interpolation='nearest', origin='lower', cmap='seismic')\n",
    "    plt.xlabel('param '+param)\n",
    "t=plt.suptitle('Example of 700-hPa level maps 25x25 degrees, centered in the storm location.'\n",
    "         +'\\n (altitude, u-wind and v-wind)')"
   ]
  },
  {
   "cell_type": "code",
   "execution_count": null,
   "metadata": {
    "collapsed": true
   },
   "outputs": [],
   "source": []
  }
 ],
 "metadata": {
  "anaconda-cloud": {},
  "kernelspec": {
   "display_name": "Python 3",
   "language": "python",
   "name": "python3"
  },
  "language_info": {
   "codemirror_mode": {
    "name": "ipython",
    "version": 3
   },
   "file_extension": ".py",
   "mimetype": "text/x-python",
   "name": "python",
   "nbconvert_exporter": "python",
   "pygments_lexer": "ipython3",
   "version": "3.6.1"
  }
 },
 "nbformat": 4,
 "nbformat_minor": 1
}
