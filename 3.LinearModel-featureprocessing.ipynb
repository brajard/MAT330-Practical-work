{
 "cells": [
  {
   "cell_type": "markdown",
   "metadata": {},
   "source": [
    "# MAT330 - 3. Try a linear model with feature preprocessing\n",
    "<span style=\"color:blue\"> ** This notebook train a linear model and make a preprocessing of input features** </span>\n",
    "\n",
    "<span style=\"color:blue\"> ** - Extract quantitative 0d features with no transformation ** </span>\n",
    "\n",
    "<span style=\"color:blue\"> ** - Use One-hot encoding for qualitative features ** </span>\n",
    "\n",
    "<span style=\"color:blue\"> ** - Represent 2d image features (11x11) by a vector containing (mean, standard deviation, max value) ** </span>\n",
    "\n",
    "<span style=\"color:red\"> ** - Can you try other feature preprocessings and select the best features? ** </span>\n",
    "\n",
    "<span style=\"color:red\"> ** - Is there a way to select the best features given the results of a regression? ** </span>"
   ]
  },
  {
   "cell_type": "code",
   "execution_count": 1,
   "metadata": {
    "collapsed": true
   },
   "outputs": [],
   "source": [
    "%matplotlib inline\n",
    "import os\n",
    "import numpy as np\n",
    "from scipy import io\n",
    "import matplotlib.pyplot as plt\n",
    "import pandas as pd\n",
    "from pandas.api.types import CategoricalDtype"
   ]
  },
  {
   "cell_type": "markdown",
   "metadata": {},
   "source": [
    "## Load data"
   ]
  },
  {
   "cell_type": "code",
   "execution_count": 2,
   "metadata": {
    "collapsed": true
   },
   "outputs": [],
   "source": [
    "#Specify the categorical features\n",
    "categorical_features = ['basin','nature']\n",
    "\n",
    "\n",
    "train_filename = 'https://raw.githubusercontent.com/brajard/MAT330-Practical-work/master/data/train.csv'\n",
    "train_filename = './data/train.csv'\n",
    "\n",
    "data_train = pd.read_csv(train_filename, dtype={cat: 'category' for cat in categorical_features})\n",
    "\n",
    "# Extract the predictor (but not the target -> data leakage)\n",
    "X = data_train.drop('target',axis=1, inplace=False)\n",
    "y = data_train['target']\n",
    "\n",
    "# Do the same with the test dataset\n",
    "test_filename = 'https://raw.githubusercontent.com/brajard/MAT330-Practical-work/master/data/test.csv'\n",
    "test_filename = './data/test.csv'\n",
    "\n",
    "Xtest = pd.read_csv(test_filename, dtype={cat: 'category' for cat in categorical_features})\n"
   ]
  },
  {
   "cell_type": "markdown",
   "metadata": {},
   "source": [
    "## Linear model"
   ]
  },
  {
   "cell_type": "markdown",
   "metadata": {},
   "source": [
    "### 1. Feature selection"
   ]
  },
  {
   "cell_type": "code",
   "execution_count": 3,
   "metadata": {
    "collapsed": true
   },
   "outputs": [],
   "source": [
    "## Some exemple of function to compute new features\n",
    "\n",
    "# compute the  max, mean and standard deviation of the wind inensity\n",
    "def compute_wind(df):\n",
    "    features_u = [name for name in df.columns if name.startswith('u_')]\n",
    "    features_v = [name for name in df.columns if name.startswith('v_')]\n",
    "    u = df.get(features_u)\n",
    "    v = df.get(features_v)\n",
    "    intensity = u.values**2 + v.values**2\n",
    "    \n",
    "    return df.assign(wind_mean = intensity.mean(axis=1),\n",
    "                     wind_std = intensity.std(axis=1),\n",
    "                    wind_max = intensity.max(axis=1))\n",
    "\n",
    "# Compute the max, average and standard deviation of the pressure\n",
    "def compute_zmean(df):\n",
    "    features_z = [name for name in df.columns if name.startswith('z_')]\n",
    "    z = df.get(features_z)\n",
    "    return df.assign(z_mean = z.mean(axis=1),\n",
    "                    z_std = z.std(axis=1),\n",
    "                    z_max = z.max(axis=1))\n"
   ]
  },
  {
   "cell_type": "code",
   "execution_count": 4,
   "metadata": {},
   "outputs": [
    {
     "name": "stdout",
     "output_type": "stream",
     "text": [
      "Size of training set: (10308, 26)\n",
      "Size of test set: (11377, 26)\n"
     ]
    }
   ],
   "source": [
    "from sklearn.preprocessing import StandardScaler\n",
    "\n",
    "\n",
    "#Feature processing (on image)\n",
    "X = compute_wind(X)\n",
    "X = compute_zmean(X)\n",
    "Xtest = compute_wind(Xtest)\n",
    "Xtest = compute_zmean(Xtest)\n",
    "\n",
    "#Features to use\n",
    "features = ['latitude', 'instant_t','longitude', 'windspeed',\n",
    "       'hemisphere', 'Jday_predictor', 'initial_max_wind',\n",
    "       'max_wind_change_12h','dist2land',\n",
    "            'wind_mean','wind_std','wind_max',\n",
    "            'z_mean','z_std','z_max']\n",
    "\n",
    "\n",
    "Xin = X.get(features)\n",
    "Xin_test = Xtest.get(features)\n",
    "\n",
    "\n",
    "\n",
    "# Dummy encoding of categorical features\n",
    "Xcat = pd.get_dummies(X[categorical_features],prefix=categorical_features)\n",
    "Xcat_test = pd.get_dummies(Xtest[categorical_features],prefix=categorical_features)\n",
    "\n",
    "# Concatenate encoded categorical feature to other features\n",
    "Xin = pd.concat([Xin,Xcat],axis=1)\n",
    "Xin_test = pd.concat([Xin_test,Xcat_test],axis=1)\n",
    "\n",
    "# Equalization of the types:\n",
    "Xin = Xin.astype(float)\n",
    "Xin_test = Xin_test.astype(float)\n",
    "\n",
    "print('Size of training set:',Xin.shape)\n",
    "print('Size of test set:',Xin_test.shape)\n",
    "\n"
   ]
  },
  {
   "cell_type": "code",
   "execution_count": 5,
   "metadata": {},
   "outputs": [
    {
     "data": {
      "text/html": [
       "<div>\n",
       "<style>\n",
       "    .dataframe thead tr:only-child th {\n",
       "        text-align: right;\n",
       "    }\n",
       "\n",
       "    .dataframe thead th {\n",
       "        text-align: left;\n",
       "    }\n",
       "\n",
       "    .dataframe tbody tr th {\n",
       "        vertical-align: top;\n",
       "    }\n",
       "</style>\n",
       "<table border=\"1\" class=\"dataframe\">\n",
       "  <thead>\n",
       "    <tr style=\"text-align: right;\">\n",
       "      <th></th>\n",
       "      <th>basin_0</th>\n",
       "      <th>basin_2</th>\n",
       "      <th>basin_3</th>\n",
       "      <th>basin_4</th>\n",
       "      <th>basin_5</th>\n",
       "      <th>basin_6</th>\n",
       "      <th>nature_0</th>\n",
       "      <th>nature_1</th>\n",
       "      <th>nature_2</th>\n",
       "      <th>nature_3</th>\n",
       "      <th>nature_5</th>\n",
       "    </tr>\n",
       "  </thead>\n",
       "  <tbody>\n",
       "    <tr>\n",
       "      <th>1</th>\n",
       "      <td>0</td>\n",
       "      <td>1</td>\n",
       "      <td>0</td>\n",
       "      <td>0</td>\n",
       "      <td>0</td>\n",
       "      <td>0</td>\n",
       "      <td>1</td>\n",
       "      <td>0</td>\n",
       "      <td>0</td>\n",
       "      <td>0</td>\n",
       "      <td>0</td>\n",
       "    </tr>\n",
       "    <tr>\n",
       "      <th>1000</th>\n",
       "      <td>0</td>\n",
       "      <td>1</td>\n",
       "      <td>0</td>\n",
       "      <td>0</td>\n",
       "      <td>0</td>\n",
       "      <td>0</td>\n",
       "      <td>1</td>\n",
       "      <td>0</td>\n",
       "      <td>0</td>\n",
       "      <td>0</td>\n",
       "      <td>0</td>\n",
       "    </tr>\n",
       "    <tr>\n",
       "      <th>2000</th>\n",
       "      <td>0</td>\n",
       "      <td>0</td>\n",
       "      <td>1</td>\n",
       "      <td>0</td>\n",
       "      <td>0</td>\n",
       "      <td>0</td>\n",
       "      <td>1</td>\n",
       "      <td>0</td>\n",
       "      <td>0</td>\n",
       "      <td>0</td>\n",
       "      <td>0</td>\n",
       "    </tr>\n",
       "    <tr>\n",
       "      <th>7000</th>\n",
       "      <td>0</td>\n",
       "      <td>0</td>\n",
       "      <td>0</td>\n",
       "      <td>0</td>\n",
       "      <td>0</td>\n",
       "      <td>1</td>\n",
       "      <td>0</td>\n",
       "      <td>0</td>\n",
       "      <td>1</td>\n",
       "      <td>0</td>\n",
       "      <td>0</td>\n",
       "    </tr>\n",
       "  </tbody>\n",
       "</table>\n",
       "</div>"
      ],
      "text/plain": [
       "      basin_0  basin_2  basin_3  basin_4  basin_5  basin_6  nature_0  \\\n",
       "1           0        1        0        0        0        0         1   \n",
       "1000        0        1        0        0        0        0         1   \n",
       "2000        0        0        1        0        0        0         1   \n",
       "7000        0        0        0        0        0        1         0   \n",
       "\n",
       "      nature_1  nature_2  nature_3  nature_5  \n",
       "1            0         0         0         0  \n",
       "1000         0         0         0         0  \n",
       "2000         0         0         0         0  \n",
       "7000         0         1         0         0  "
      ]
     },
     "execution_count": 5,
     "metadata": {},
     "output_type": "execute_result"
    }
   ],
   "source": [
    "## Have a look at the encoding of categorical features for few examples\n",
    "Xcat.loc[[1,1000,2000,7000],:]"
   ]
  },
  {
   "cell_type": "markdown",
   "metadata": {},
   "source": [
    "### 2. Train into Val/Train"
   ]
  },
  {
   "cell_type": "code",
   "execution_count": 6,
   "metadata": {
    "collapsed": true
   },
   "outputs": [],
   "source": [
    "from sklearn.utils import shuffle\n",
    "np.random.seed(10)\n",
    "\n",
    "#Selects the different stormid to split into train/validation\n",
    "ids = shuffle(X.stormid.unique())\n",
    "\n",
    "#Take 80% for training\n",
    "limit_train = int(.8*len(ids))\n",
    "\n",
    "#Index of training/val\n",
    "idx_train = X.index[X.stormid.isin(ids[:limit_train])]\n",
    "idx_val = X.index[X.stormid.isin(ids[limit_train:])]\n",
    "\n",
    "#Split the dataset into train/validation\n",
    "X_train, y_train = Xin.loc[idx_train], y.loc[idx_train]\n",
    "X_val, y_val = Xin.loc[idx_val], y.loc[idx_val]"
   ]
  },
  {
   "cell_type": "markdown",
   "metadata": {},
   "source": [
    "### 3. Standardization\n",
    "For all features, transform your data such that mean=0 and std=1 (on the training data), and use the same parameters for transforming the test data also. "
   ]
  },
  {
   "cell_type": "code",
   "execution_count": 23,
   "metadata": {
    "collapsed": true
   },
   "outputs": [],
   "source": [
    "# The input features are standardized\n",
    "scaler = StandardScaler().fit(X_train)\n",
    "X_train_scaled = scaler.transform(X_train)\n",
    "X_val_scaled = scaler.transform(X_val)\n",
    "X_test_scaled = scaler.transform(Xin_test)"
   ]
  },
  {
   "cell_type": "markdown",
   "metadata": {},
   "source": [
    "### 4. Training"
   ]
  },
  {
   "cell_type": "code",
   "execution_count": 20,
   "metadata": {},
   "outputs": [
    {
     "data": {
      "text/plain": [
       "LinearRegression(copy_X=True, fit_intercept=True, n_jobs=1, normalize=False)"
      ]
     },
     "execution_count": 20,
     "metadata": {},
     "output_type": "execute_result"
    }
   ],
   "source": [
    "from sklearn.linear_model import LinearRegression\n",
    "from sklearn.ensemble import RandomForestRegressor\n",
    "reg = LinearRegression()\n",
    "reg.fit(X_train_scaled,y_train)"
   ]
  },
  {
   "cell_type": "markdown",
   "metadata": {},
   "source": [
    "### 5. Validate the model"
   ]
  },
  {
   "cell_type": "code",
   "execution_count": 21,
   "metadata": {},
   "outputs": [
    {
     "data": {
      "image/png": "[encoded data removed]",
      "text/plain": [
       "<Figure size 432x288 with 1 Axes>"
      ]
     },
     "metadata": {},
     "output_type": "display_data"
    }
   ],
   "source": [
    "y_val_predict = reg.predict(X_val_scaled)\n",
    "plt.scatter(y_val,y_val_predict)\n",
    "plt.plot([0,140],[0,140],'-k')\n",
    "plt.show()"
   ]
  },
  {
   "cell_type": "code",
   "execution_count": 22,
   "metadata": {},
   "outputs": [
    {
     "name": "stdout",
     "output_type": "stream",
     "text": [
      "linear regression score: 0.760\n"
     ]
    }
   ],
   "source": [
    "score = reg.score(X_val_scaled,y_val)\n",
    "print('linear regression score: {:.3f}'.format(score))"
   ]
  },
  {
   "cell_type": "markdown",
   "metadata": {},
   "source": [
    "### 6. Predicting the test dataset"
   ]
  },
  {
   "cell_type": "code",
   "execution_count": 25,
   "metadata": {
    "collapsed": true
   },
   "outputs": [],
   "source": [
    "#Change the name for the file (e.g. you last name, or a name for you algo)\n",
    "name = 'lin_feature_processing'\n",
    "\n",
    "y_test_predict = reg.predict(X_test_scaled)\n",
    "np.save('test_predict.' + name + '.npy',y_test_predict)\n",
    "\n",
    "#Send the file by email to julien.brajard@nersc.no"
   ]
  },
  {
   "cell_type": "code",
   "execution_count": null,
   "metadata": {
    "collapsed": true
   },
   "outputs": [],
   "source": []
  }
 ],
 "metadata": {
  "anaconda-cloud": {},
  "kernelspec": {
   "display_name": "Python 3",
   "language": "python",
   "name": "python3"
  },
  "language_info": {
   "codemirror_mode": {
    "name": "ipython",
    "version": 3
   },
   "file_extension": ".py",
   "mimetype": "text/x-python",
   "name": "python",
   "nbconvert_exporter": "python",
   "pygments_lexer": "ipython3",
   "version": "3.6.1"
  }
 },
 "nbformat": 4,
 "nbformat_minor": 1
}
