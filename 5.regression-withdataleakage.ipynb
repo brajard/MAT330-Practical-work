{
 "cells": [
  {
   "cell_type": "markdown",
   "metadata": {},
   "source": [
    "# MAT330 - 3. Try a linear model\n",
    "<span style=\"color:blue\"> ** This notebook performs a regression with data leakage** </span>\n",
    "\n",
    "<span style=\"color:red\"> ** -Compare the performance between a correct training/validation split and a split with leakage? ** </span>\n"
   ]
  },
  {
   "cell_type": "code",
   "execution_count": null,
   "metadata": {
    "collapsed": true
   },
   "outputs": [],
   "source": [
    "%matplotlib inline\n",
    "import os\n",
    "import numpy as np\n",
    "from scipy import io\n",
    "import matplotlib.pyplot as plt\n",
    "import pandas as pd"
   ]
  },
  {
   "cell_type": "markdown",
   "metadata": {},
   "source": [
    "## Load data"
   ]
  },
  {
   "cell_type": "code",
   "execution_count": null,
   "metadata": {
    "collapsed": true
   },
   "outputs": [],
   "source": [
    "train_filename = 'https://raw.githubusercontent.com/brajard/MAT330-Practical-work/master/data/train.csv'\n",
    "train_filename = './data/train.csv'\n",
    "data_train = pd.read_csv(train_filename)\n",
    "\n",
    "# Extract the predictor (but not the target -> data leakage)\n",
    "X = data_train.drop('target',axis=1, inplace=False)\n",
    "y = data_train['target']\n",
    "\n",
    "# Do the same with the test dataset\n",
    "test_filename = 'https://raw.githubusercontent.com/brajard/MAT330-Practical-work/master/data/test.csv'\n",
    "test_filename = './data/test.csv'\n",
    "Xtest = pd.read_csv(test_filename)\n"
   ]
  },
  {
   "cell_type": "markdown",
   "metadata": {},
   "source": [
    "## Linear model"
   ]
  },
  {
   "cell_type": "markdown",
   "metadata": {},
   "source": [
    "### 1. Feature selection"
   ]
  },
  {
   "cell_type": "code",
   "execution_count": null,
   "metadata": {
    "collapsed": true
   },
   "outputs": [],
   "source": [
    "from sklearn.preprocessing import StandardScaler\n",
    "\n",
    "#Use all the features with no preprocessing expect stormid\n",
    "Xin = X.drop('stormid', axis=1)\n",
    "Xin_test = Xtest.drop('stormid', axis=1)\n",
    "\n",
    "\n",
    "# Equalization of the types:\n",
    "Xin = Xin.astype(float)\n",
    "Xin_test = Xin_test.astype(float)"
   ]
  },
  {
   "cell_type": "markdown",
   "metadata": {},
   "source": [
    "### 2. Train into Val/Train"
   ]
  },
  {
   "cell_type": "markdown",
   "metadata": {},
   "source": [
    "#### Correct split:"
   ]
  },
  {
   "cell_type": "code",
   "execution_count": null,
   "metadata": {
    "collapsed": true
   },
   "outputs": [],
   "source": [
    "from sklearn.utils import shuffle\n",
    "np.random.seed(10)\n",
    "\n",
    "#Selects the different stormid to split into train/validation\n",
    "ids = shuffle(X.stormid.unique())\n",
    "\n",
    "#Take 80% for training\n",
    "limit_train = int(.8*len(ids))\n",
    "\n",
    "#Index of training/val\n",
    "idx_train = X.index[X.stormid.isin(ids[:limit_train])]\n",
    "idx_val = X.index[X.stormid.isin(ids[limit_train:])]\n",
    "\n",
    "#Split the dataset into train/validation\n",
    "X_train, y_train = Xin.loc[idx_train], y.loc[idx_train]\n",
    "X_val, y_val = Xin.loc[idx_val], y.loc[idx_val]"
   ]
  },
  {
   "cell_type": "markdown",
   "metadata": {},
   "source": [
    "#### Split with leakage:"
   ]
  },
  {
   "cell_type": "code",
   "execution_count": null,
   "metadata": {
    "collapsed": true
   },
   "outputs": [],
   "source": [
    "from sklearn.model_selection import train_test_split\n",
    "np.random.seed(10)\n",
    "X_train_leak, X_val_leak, y_train_leak, y_val_leak = train_test_split(Xin, y)"
   ]
  },
  {
   "cell_type": "markdown",
   "metadata": {},
   "source": [
    "### 3. Standardization \n"
   ]
  },
  {
   "cell_type": "code",
   "execution_count": null,
   "metadata": {},
   "outputs": [],
   "source": [
    "#With the correct datasets\n",
    "scaler = StandardScaler().fit(X_train)\n",
    "X_train_scaled = scaler.transform(X_train)\n",
    "X_val_scaled = scaler.transform(X_val)\n",
    "X_test_scaled = scaler.transform(Xin_test)\n",
    "\n",
    "#With leakage\n",
    "scaler = StandardScaler().fit(X_train)\n",
    "X_train_scaled_leak = scaler.transform(X_train_leak)\n",
    "X_val_scaled_leak = scaler.transform(X_val_leak)"
   ]
  },
  {
   "cell_type": "markdown",
   "metadata": {},
   "source": [
    "### 4. Training"
   ]
  },
  {
   "cell_type": "code",
   "execution_count": null,
   "metadata": {},
   "outputs": [],
   "source": [
    "from sklearn.ensemble import RandomForestRegressor\n",
    "\n",
    "\n",
    "#On correct set\n",
    "rfreg = RandomForestRegressor()\n",
    "rfreg.fit(X_train_scaled,y_train)\n",
    "\n",
    "#On set with leakage\n",
    "#On correct set\n",
    "rfreg_leak = RandomForestRegressor()\n",
    "rfreg_leak.fit(X_train_scaled_leak,y_train_leak)"
   ]
  },
  {
   "cell_type": "markdown",
   "metadata": {},
   "source": [
    "### 5. Validate the model"
   ]
  },
  {
   "cell_type": "code",
   "execution_count": null,
   "metadata": {},
   "outputs": [],
   "source": [
    "y_val_predict = rfreg.predict(X_val_scaled)\n",
    "y_val_predict_leak = rfreg_leak.predict(X_val_scaled_leak)\n",
    "\n",
    "plt.scatter(y_val,y_val_predict,label='correct')\n",
    "plt.scatter(y_val_leak,y_val_predict_leak,label='leak')\n",
    "plt.legend()\n",
    "plt.plot([0,140],[0,140],'-k')\n",
    "plt.show()"
   ]
  },
  {
   "cell_type": "code",
   "execution_count": null,
   "metadata": {},
   "outputs": [],
   "source": [
    "score = rfreg.score(X_val_scaled,y_val)\n",
    "score_leak = rfreg_leak.score(X_val_scaled_leak,y_val_leak)\n",
    "print('linear regression score (correct): {:.3f}'.format(score))\n",
    "print('linear regression score (with leakage): {:.3f}'.format(score_leak))"
   ]
  }
 ],
 "metadata": {
  "anaconda-cloud": {},
  "kernelspec": {
   "display_name": "Python 3",
   "language": "python",
   "name": "python3"
  },
  "language_info": {
   "codemirror_mode": {
    "name": "ipython",
    "version": 3
   },
   "file_extension": ".py",
   "mimetype": "text/x-python",
   "name": "python",
   "nbconvert_exporter": "python",
   "pygments_lexer": "ipython3",
   "version": "3.6.1"
  }
 },
 "nbformat": 4,
 "nbformat_minor": 1
}
